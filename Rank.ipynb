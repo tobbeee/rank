{
 "cells": [
  {
   "cell_type": "code",
   "execution_count": 2,
   "metadata": {},
   "outputs": [],
   "source": [
    "import pandas as pd\n",
    "import math"
   ]
  },
  {
   "cell_type": "markdown",
   "metadata": {},
   "source": [
    "# Question IV"
   ]
  },
  {
   "cell_type": "markdown",
   "metadata": {},
   "source": [
    "a)"
   ]
  },
  {
   "cell_type": "code",
   "execution_count": 3,
   "metadata": {},
   "outputs": [],
   "source": [
    "dftt = pd.read_excel('ttest.xls')"
   ]
  },
  {
   "cell_type": "code",
   "execution_count": 4,
   "metadata": {},
   "outputs": [
    {
     "data": {
      "text/html": [
       "<div>\n",
       "<style scoped>\n",
       "    .dataframe tbody tr th:only-of-type {\n",
       "        vertical-align: middle;\n",
       "    }\n",
       "\n",
       "    .dataframe tbody tr th {\n",
       "        vertical-align: top;\n",
       "    }\n",
       "\n",
       "    .dataframe thead th {\n",
       "        text-align: right;\n",
       "    }\n",
       "</style>\n",
       "<table border=\"1\" class=\"dataframe\">\n",
       "  <thead>\n",
       "    <tr style=\"text-align: right;\">\n",
       "      <th></th>\n",
       "      <th>BOSS</th>\n",
       "      <th>Flat-COTE</th>\n",
       "    </tr>\n",
       "  </thead>\n",
       "  <tbody>\n",
       "    <tr>\n",
       "      <th>0</th>\n",
       "      <td>0.749412</td>\n",
       "      <td>0.809847</td>\n",
       "    </tr>\n",
       "    <tr>\n",
       "      <th>1</th>\n",
       "      <td>0.875200</td>\n",
       "      <td>0.876800</td>\n",
       "    </tr>\n",
       "    <tr>\n",
       "      <th>2</th>\n",
       "      <td>0.615000</td>\n",
       "      <td>0.764000</td>\n",
       "    </tr>\n",
       "    <tr>\n",
       "      <th>3</th>\n",
       "      <td>0.948500</td>\n",
       "      <td>0.921000</td>\n",
       "    </tr>\n",
       "    <tr>\n",
       "      <th>4</th>\n",
       "      <td>0.984000</td>\n",
       "      <td>0.941000</td>\n",
       "    </tr>\n",
       "    <tr>\n",
       "      <th>5</th>\n",
       "      <td>0.855000</td>\n",
       "      <td>0.899000</td>\n",
       "    </tr>\n",
       "    <tr>\n",
       "      <th>6</th>\n",
       "      <td>0.998067</td>\n",
       "      <td>0.998011</td>\n",
       "    </tr>\n",
       "    <tr>\n",
       "      <th>7</th>\n",
       "      <td>0.659570</td>\n",
       "      <td>0.735568</td>\n",
       "    </tr>\n",
       "    <tr>\n",
       "      <th>8</th>\n",
       "      <td>0.900388</td>\n",
       "      <td>0.982717</td>\n",
       "    </tr>\n",
       "    <tr>\n",
       "      <th>9</th>\n",
       "      <td>0.988571</td>\n",
       "      <td>0.999643</td>\n",
       "    </tr>\n",
       "  </tbody>\n",
       "</table>\n",
       "</div>"
      ],
      "text/plain": [
       "       BOSS  Flat-COTE\n",
       "0  0.749412   0.809847\n",
       "1  0.875200   0.876800\n",
       "2  0.615000   0.764000\n",
       "3  0.948500   0.921000\n",
       "4  0.984000   0.941000\n",
       "5  0.855000   0.899000\n",
       "6  0.998067   0.998011\n",
       "7  0.659570   0.735568\n",
       "8  0.900388   0.982717\n",
       "9  0.988571   0.999643"
      ]
     },
     "execution_count": 4,
     "metadata": {},
     "output_type": "execute_result"
    }
   ],
   "source": [
    "dftt.head(10)"
   ]
  },
  {
   "cell_type": "code",
   "execution_count": 16,
   "metadata": {
    "scrolled": true
   },
   "outputs": [
    {
     "name": "stdout",
     "output_type": "stream",
     "text": [
      "Average Difference: 0.02448148105882353\n",
      "Standard Deviation: 0.06866696797166244\n",
      "t statistic: 3.2869967856356017\n"
     ]
    }
   ],
   "source": [
    "total = 0\n",
    "sdCalc = 0\n",
    "standardDevIncreaser = 0\n",
    "\n",
    "for index, row in dftt.iterrows():\n",
    "    boss = dftt['BOSS'].values[index] \n",
    "    flatCote = dftt['Flat-COTE'].values[index]\n",
    "\n",
    "    total += boss - flatCote\n",
    "    sdCalc = ((boss - flatCote) - 0.025) ** 2\n",
    "    standardDevIncreaser += sdCalc\n",
    "\n",
    "averageDifference = abs(total/85)\n",
    "standardDeviation = math.sqrt(standardDevIncreaser/84)\n",
    "    \n",
    "print(\"Average Difference:\", averageDifference)\n",
    "print(\"Standard Deviation:\", standardDeviation)\n",
    "print(\"t statistic:\", averageDifference / (standardDeviation / math.sqrt(85)))"
   ]
  },
  {
   "cell_type": "markdown",
   "metadata": {},
   "source": [
    "b)"
   ]
  },
  {
   "cell_type": "code",
   "execution_count": 10,
   "metadata": {},
   "outputs": [],
   "source": [
    "dff = pd.read_excel('friedmanstest.xls')"
   ]
  },
  {
   "cell_type": "code",
   "execution_count": 11,
   "metadata": {},
   "outputs": [
    {
     "data": {
      "text/html": [
       "<div>\n",
       "<style scoped>\n",
       "    .dataframe tbody tr th:only-of-type {\n",
       "        vertical-align: middle;\n",
       "    }\n",
       "\n",
       "    .dataframe tbody tr th {\n",
       "        vertical-align: top;\n",
       "    }\n",
       "\n",
       "    .dataframe thead th {\n",
       "        text-align: right;\n",
       "    }\n",
       "</style>\n",
       "<table border=\"1\" class=\"dataframe\">\n",
       "  <thead>\n",
       "    <tr style=\"text-align: right;\">\n",
       "      <th></th>\n",
       "      <th>BOSS</th>\n",
       "      <th>LCSS_1NN</th>\n",
       "      <th>LS</th>\n",
       "      <th>LPS</th>\n",
       "      <th>DDTW_R1_1NN</th>\n",
       "      <th>TSBF</th>\n",
       "    </tr>\n",
       "  </thead>\n",
       "  <tbody>\n",
       "    <tr>\n",
       "      <th>0</th>\n",
       "      <td>0.749412</td>\n",
       "      <td>0.241586</td>\n",
       "      <td>0.527418</td>\n",
       "      <td>0.764962</td>\n",
       "      <td>0.583043</td>\n",
       "      <td>0.726777</td>\n",
       "    </tr>\n",
       "    <tr>\n",
       "      <th>1</th>\n",
       "      <td>0.875200</td>\n",
       "      <td>0.797086</td>\n",
       "      <td>0.841314</td>\n",
       "      <td>0.806286</td>\n",
       "      <td>0.867600</td>\n",
       "      <td>0.800857</td>\n",
       "    </tr>\n",
       "    <tr>\n",
       "      <th>2</th>\n",
       "      <td>0.615000</td>\n",
       "      <td>0.543000</td>\n",
       "      <td>0.697667</td>\n",
       "      <td>0.519667</td>\n",
       "      <td>0.533000</td>\n",
       "      <td>0.554333</td>\n",
       "    </tr>\n",
       "    <tr>\n",
       "      <th>3</th>\n",
       "      <td>0.948500</td>\n",
       "      <td>0.774500</td>\n",
       "      <td>0.861500</td>\n",
       "      <td>0.892500</td>\n",
       "      <td>0.811500</td>\n",
       "      <td>0.798500</td>\n",
       "    </tr>\n",
       "    <tr>\n",
       "      <th>4</th>\n",
       "      <td>0.984000</td>\n",
       "      <td>0.799500</td>\n",
       "      <td>0.863500</td>\n",
       "      <td>0.854000</td>\n",
       "      <td>0.877500</td>\n",
       "      <td>0.902000</td>\n",
       "    </tr>\n",
       "  </tbody>\n",
       "</table>\n",
       "</div>"
      ],
      "text/plain": [
       "       BOSS  LCSS_1NN        LS       LPS  DDTW_R1_1NN      TSBF\n",
       "0  0.749412  0.241586  0.527418  0.764962     0.583043  0.726777\n",
       "1  0.875200  0.797086  0.841314  0.806286     0.867600  0.800857\n",
       "2  0.615000  0.543000  0.697667  0.519667     0.533000  0.554333\n",
       "3  0.948500  0.774500  0.861500  0.892500     0.811500  0.798500\n",
       "4  0.984000  0.799500  0.863500  0.854000     0.877500  0.902000"
      ]
     },
     "execution_count": 11,
     "metadata": {},
     "output_type": "execute_result"
    }
   ],
   "source": [
    "dff.head(5)"
   ]
  },
  {
   "cell_type": "code",
   "execution_count": 15,
   "metadata": {},
   "outputs": [
    {
     "name": "stdout",
     "output_type": "stream",
     "text": [
      "BOSS: 2.1058823529411765\n",
      "LCSS: 3.9529411764705884\n",
      "LS: 3.2941176470588234\n",
      "LPS: 3.6588235294117646\n",
      "DDTW: 4.858823529411764\n",
      "TSBF: 3.1294117647058823\n"
     ]
    }
   ],
   "source": [
    "score = []\n",
    "bossValueRank = 0\n",
    "lcssValueRank = 0\n",
    "lsValueRank = 0\n",
    "lpsValueRank = 0\n",
    "ddtwValueRank = 0\n",
    "tsbfValueRank = 0\n",
    "\n",
    "for index, row in dff.iterrows():\n",
    "    boss = dff['BOSS'].values[index] \n",
    "    lcss = dff['LCSS_1NN'].values[index]\n",
    "    ls = dff['LS'].values[index] \n",
    "    lps = dff['LPS'].values[index]\n",
    "    ddtw = dff['DDTW_R1_1NN'].values[index]\n",
    "    tsbf = dff['TSBF'].values[index]\n",
    "\n",
    "    score.append(boss)\n",
    "    score.append(lcss)\n",
    "    score.append(ls)\n",
    "    score.append(lps)\n",
    "    score.append(ddtw)\n",
    "    score.append(tsbf)\n",
    "    \n",
    "    sr = pd.Series(score)\n",
    "    _index = [\"boss\", \"lcss\", \"ls\", \"lps\", \"ddtw\", \"tsbf\"]\n",
    "    sr.index = _index\n",
    "    result = sr.rank(ascending = False)\n",
    "    bossValueRank += result[0]\n",
    "    lcssValueRank += result[1]\n",
    "    lsValueRank += result[2]\n",
    "    lpsValueRank += result[3]\n",
    "    ddtwValueRank += result[4]\n",
    "    tsbfValueRank += result[5]\n",
    "    score.clear()\n",
    "    \n",
    "print(\"BOSS:\", bossValueRank/85)\n",
    "print(\"LCSS:\", lcssValueRank/85)\n",
    "print(\"LS:\", lsValueRank/85)\n",
    "print(\"LPS:\", lpsValueRank/85)\n",
    "print(\"DDTW:\", ddtwValueRank/85)\n",
    "print(\"TSBF:\", tsbfValueRank/85)"
   ]
  }
 ],
 "metadata": {
  "kernelspec": {
   "display_name": "Python 3",
   "language": "python",
   "name": "python3"
  },
  "language_info": {
   "codemirror_mode": {
    "name": "ipython",
    "version": 3
   },
   "file_extension": ".py",
   "mimetype": "text/x-python",
   "name": "python",
   "nbconvert_exporter": "python",
   "pygments_lexer": "ipython3",
   "version": "3.8.5"
  }
 },
 "nbformat": 4,
 "nbformat_minor": 4
}
